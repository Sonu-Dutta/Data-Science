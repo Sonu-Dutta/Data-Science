{
 "cells": [
  {
   "cell_type": "markdown",
   "metadata": {},
   "source": [
    "# Assignment no. 1 from Syllabus"
   ]
  },
  {
   "cell_type": "markdown",
   "metadata": {},
   "source": [
    "## Access an open source dataset “Titanic”. \n",
    "## Apply pre-processing techniques on the raw dataset."
   ]
  },
  {
   "cell_type": "markdown",
   "metadata": {},
   "source": [
    "# Import all the necessary libraries"
   ]
  },
  {
   "cell_type": "markdown",
   "metadata": {},
   "source": [
    "                                                                                            Sonu Dutta\n",
    "                                                                                            Roll no : 4\n",
    "                                                                                            TE- Entc"
   ]
  },
  {
   "cell_type": "code",
   "execution_count": 3,
   "metadata": {},
   "outputs": [],
   "source": [
    "import numpy as np\n",
    "import pandas as pd\n",
    "import matplotlib.pyplot as plt"
   ]
  },
  {
   "cell_type": "code",
   "execution_count": 2,
   "metadata": {},
   "outputs": [
    {
     "data": {
      "text/html": [
       "<div>\n",
       "<style scoped>\n",
       "    .dataframe tbody tr th:only-of-type {\n",
       "        vertical-align: middle;\n",
       "    }\n",
       "\n",
       "    .dataframe tbody tr th {\n",
       "        vertical-align: top;\n",
       "    }\n",
       "\n",
       "    .dataframe thead th {\n",
       "        text-align: right;\n",
       "    }\n",
       "</style>\n",
       "<table border=\"1\" class=\"dataframe\">\n",
       "  <thead>\n",
       "    <tr style=\"text-align: right;\">\n",
       "      <th></th>\n",
       "      <th>PassengerId</th>\n",
       "      <th>Survived</th>\n",
       "      <th>Pclass</th>\n",
       "      <th>Name</th>\n",
       "      <th>Sex</th>\n",
       "      <th>Age</th>\n",
       "      <th>SibSp</th>\n",
       "      <th>Parch</th>\n",
       "      <th>Ticket</th>\n",
       "      <th>Fare</th>\n",
       "      <th>Cabin</th>\n",
       "      <th>Embarked</th>\n",
       "    </tr>\n",
       "  </thead>\n",
       "  <tbody>\n",
       "    <tr>\n",
       "      <th>0</th>\n",
       "      <td>1</td>\n",
       "      <td>0</td>\n",
       "      <td>3</td>\n",
       "      <td>Braund, Mr. Owen Harris</td>\n",
       "      <td>male</td>\n",
       "      <td>22.0</td>\n",
       "      <td>1</td>\n",
       "      <td>0</td>\n",
       "      <td>A/5 21171</td>\n",
       "      <td>7.2500</td>\n",
       "      <td>NaN</td>\n",
       "      <td>S</td>\n",
       "    </tr>\n",
       "    <tr>\n",
       "      <th>1</th>\n",
       "      <td>2</td>\n",
       "      <td>1</td>\n",
       "      <td>1</td>\n",
       "      <td>Cumings, Mrs. John Bradley (Florence Briggs Th...</td>\n",
       "      <td>female</td>\n",
       "      <td>38.0</td>\n",
       "      <td>1</td>\n",
       "      <td>0</td>\n",
       "      <td>PC 17599</td>\n",
       "      <td>71.2833</td>\n",
       "      <td>C85</td>\n",
       "      <td>C</td>\n",
       "    </tr>\n",
       "    <tr>\n",
       "      <th>2</th>\n",
       "      <td>3</td>\n",
       "      <td>1</td>\n",
       "      <td>3</td>\n",
       "      <td>Heikkinen, Miss. Laina</td>\n",
       "      <td>female</td>\n",
       "      <td>26.0</td>\n",
       "      <td>0</td>\n",
       "      <td>0</td>\n",
       "      <td>STON/O2. 3101282</td>\n",
       "      <td>7.9250</td>\n",
       "      <td>NaN</td>\n",
       "      <td>S</td>\n",
       "    </tr>\n",
       "    <tr>\n",
       "      <th>3</th>\n",
       "      <td>4</td>\n",
       "      <td>1</td>\n",
       "      <td>1</td>\n",
       "      <td>Futrelle, Mrs. Jacques Heath (Lily May Peel)</td>\n",
       "      <td>female</td>\n",
       "      <td>35.0</td>\n",
       "      <td>1</td>\n",
       "      <td>0</td>\n",
       "      <td>113803</td>\n",
       "      <td>53.1000</td>\n",
       "      <td>C123</td>\n",
       "      <td>S</td>\n",
       "    </tr>\n",
       "    <tr>\n",
       "      <th>4</th>\n",
       "      <td>5</td>\n",
       "      <td>0</td>\n",
       "      <td>3</td>\n",
       "      <td>Allen, Mr. William Henry</td>\n",
       "      <td>male</td>\n",
       "      <td>35.0</td>\n",
       "      <td>0</td>\n",
       "      <td>0</td>\n",
       "      <td>373450</td>\n",
       "      <td>8.0500</td>\n",
       "      <td>NaN</td>\n",
       "      <td>S</td>\n",
       "    </tr>\n",
       "    <tr>\n",
       "      <th>5</th>\n",
       "      <td>6</td>\n",
       "      <td>0</td>\n",
       "      <td>3</td>\n",
       "      <td>Moran, Mr. James</td>\n",
       "      <td>male</td>\n",
       "      <td>NaN</td>\n",
       "      <td>0</td>\n",
       "      <td>0</td>\n",
       "      <td>330877</td>\n",
       "      <td>8.4583</td>\n",
       "      <td>NaN</td>\n",
       "      <td>Q</td>\n",
       "    </tr>\n",
       "    <tr>\n",
       "      <th>6</th>\n",
       "      <td>7</td>\n",
       "      <td>0</td>\n",
       "      <td>1</td>\n",
       "      <td>McCarthy, Mr. Timothy J</td>\n",
       "      <td>male</td>\n",
       "      <td>54.0</td>\n",
       "      <td>0</td>\n",
       "      <td>0</td>\n",
       "      <td>17463</td>\n",
       "      <td>51.8625</td>\n",
       "      <td>E46</td>\n",
       "      <td>S</td>\n",
       "    </tr>\n",
       "    <tr>\n",
       "      <th>7</th>\n",
       "      <td>8</td>\n",
       "      <td>0</td>\n",
       "      <td>3</td>\n",
       "      <td>Palsson, Master. Gosta Leonard</td>\n",
       "      <td>male</td>\n",
       "      <td>2.0</td>\n",
       "      <td>3</td>\n",
       "      <td>1</td>\n",
       "      <td>349909</td>\n",
       "      <td>21.0750</td>\n",
       "      <td>NaN</td>\n",
       "      <td>S</td>\n",
       "    </tr>\n",
       "    <tr>\n",
       "      <th>8</th>\n",
       "      <td>9</td>\n",
       "      <td>1</td>\n",
       "      <td>3</td>\n",
       "      <td>Johnson, Mrs. Oscar W (Elisabeth Vilhelmina Berg)</td>\n",
       "      <td>female</td>\n",
       "      <td>27.0</td>\n",
       "      <td>0</td>\n",
       "      <td>2</td>\n",
       "      <td>347742</td>\n",
       "      <td>11.1333</td>\n",
       "      <td>NaN</td>\n",
       "      <td>S</td>\n",
       "    </tr>\n",
       "    <tr>\n",
       "      <th>9</th>\n",
       "      <td>10</td>\n",
       "      <td>1</td>\n",
       "      <td>2</td>\n",
       "      <td>Nasser, Mrs. Nicholas (Adele Achem)</td>\n",
       "      <td>female</td>\n",
       "      <td>14.0</td>\n",
       "      <td>1</td>\n",
       "      <td>0</td>\n",
       "      <td>237736</td>\n",
       "      <td>30.0708</td>\n",
       "      <td>NaN</td>\n",
       "      <td>C</td>\n",
       "    </tr>\n",
       "  </tbody>\n",
       "</table>\n",
       "</div>"
      ],
      "text/plain": [
       "   PassengerId  Survived  Pclass  \\\n",
       "0            1         0       3   \n",
       "1            2         1       1   \n",
       "2            3         1       3   \n",
       "3            4         1       1   \n",
       "4            5         0       3   \n",
       "5            6         0       3   \n",
       "6            7         0       1   \n",
       "7            8         0       3   \n",
       "8            9         1       3   \n",
       "9           10         1       2   \n",
       "\n",
       "                                                Name     Sex   Age  SibSp  \\\n",
       "0                            Braund, Mr. Owen Harris    male  22.0      1   \n",
       "1  Cumings, Mrs. John Bradley (Florence Briggs Th...  female  38.0      1   \n",
       "2                             Heikkinen, Miss. Laina  female  26.0      0   \n",
       "3       Futrelle, Mrs. Jacques Heath (Lily May Peel)  female  35.0      1   \n",
       "4                           Allen, Mr. William Henry    male  35.0      0   \n",
       "5                                   Moran, Mr. James    male   NaN      0   \n",
       "6                            McCarthy, Mr. Timothy J    male  54.0      0   \n",
       "7                     Palsson, Master. Gosta Leonard    male   2.0      3   \n",
       "8  Johnson, Mrs. Oscar W (Elisabeth Vilhelmina Berg)  female  27.0      0   \n",
       "9                Nasser, Mrs. Nicholas (Adele Achem)  female  14.0      1   \n",
       "\n",
       "   Parch            Ticket     Fare Cabin Embarked  \n",
       "0      0         A/5 21171   7.2500   NaN        S  \n",
       "1      0          PC 17599  71.2833   C85        C  \n",
       "2      0  STON/O2. 3101282   7.9250   NaN        S  \n",
       "3      0            113803  53.1000  C123        S  \n",
       "4      0            373450   8.0500   NaN        S  \n",
       "5      0            330877   8.4583   NaN        Q  \n",
       "6      0             17463  51.8625   E46        S  \n",
       "7      1            349909  21.0750   NaN        S  \n",
       "8      2            347742  11.1333   NaN        S  \n",
       "9      0            237736  30.0708   NaN        C  "
      ]
     },
     "execution_count": 2,
     "metadata": {},
     "output_type": "execute_result"
    }
   ],
   "source": [
    "data = pd.read_csv('train.csv')\n",
    "data.head(10)"
   ]
  },
  {
   "cell_type": "markdown",
   "metadata": {},
   "source": [
    "## Basic Data Exploration"
   ]
  },
  {
   "cell_type": "code",
   "execution_count": 3,
   "metadata": {},
   "outputs": [
    {
     "data": {
      "text/plain": [
       "(891, 12)"
      ]
     },
     "execution_count": 3,
     "metadata": {},
     "output_type": "execute_result"
    }
   ],
   "source": [
    "#number or rows and columns\n",
    "details = data.shape\n",
    "details"
   ]
  },
  {
   "cell_type": "code",
   "execution_count": 4,
   "metadata": {},
   "outputs": [
    {
     "name": "stdout",
     "output_type": "stream",
     "text": [
      "Total number of rows: 891 \n",
      "Total number of columns: 12\n"
     ]
    }
   ],
   "source": [
    "print('Total number of rows:',details[0], '\\nTotal number of columns:', details[1])"
   ]
  },
  {
   "cell_type": "code",
   "execution_count": 5,
   "metadata": {},
   "outputs": [
    {
     "data": {
      "text/plain": [
       "Index(['PassengerId', 'Survived', 'Pclass', 'Name', 'Sex', 'Age', 'SibSp',\n",
       "       'Parch', 'Ticket', 'Fare', 'Cabin', 'Embarked'],\n",
       "      dtype='object')"
      ]
     },
     "execution_count": 5,
     "metadata": {},
     "output_type": "execute_result"
    }
   ],
   "source": [
    "#names of columns\n",
    "data.columns"
   ]
  },
  {
   "cell_type": "code",
   "execution_count": 6,
   "metadata": {},
   "outputs": [
    {
     "name": "stdout",
     "output_type": "stream",
     "text": [
      "<class 'pandas.core.frame.DataFrame'>\n",
      "RangeIndex: 891 entries, 0 to 890\n",
      "Data columns (total 12 columns):\n",
      " #   Column       Non-Null Count  Dtype  \n",
      "---  ------       --------------  -----  \n",
      " 0   PassengerId  891 non-null    int64  \n",
      " 1   Survived     891 non-null    int64  \n",
      " 2   Pclass       891 non-null    int64  \n",
      " 3   Name         891 non-null    object \n",
      " 4   Sex          891 non-null    object \n",
      " 5   Age          714 non-null    float64\n",
      " 6   SibSp        891 non-null    int64  \n",
      " 7   Parch        891 non-null    int64  \n",
      " 8   Ticket       891 non-null    object \n",
      " 9   Fare         891 non-null    float64\n",
      " 10  Cabin        204 non-null    object \n",
      " 11  Embarked     889 non-null    object \n",
      "dtypes: float64(2), int64(5), object(5)\n",
      "memory usage: 83.7+ KB\n"
     ]
    }
   ],
   "source": [
    "# basic information\n",
    "data.info()"
   ]
  },
  {
   "cell_type": "code",
   "execution_count": 7,
   "metadata": {},
   "outputs": [
    {
     "data": {
      "text/plain": [
       "array(['Braund, Mr. Owen Harris',\n",
       "       'Cumings, Mrs. John Bradley (Florence Briggs Thayer)',\n",
       "       'Heikkinen, Miss. Laina',\n",
       "       'Futrelle, Mrs. Jacques Heath (Lily May Peel)',\n",
       "       'Allen, Mr. William Henry', 'Moran, Mr. James',\n",
       "       'McCarthy, Mr. Timothy J', 'Palsson, Master. Gosta Leonard',\n",
       "       'Johnson, Mrs. Oscar W (Elisabeth Vilhelmina Berg)',\n",
       "       'Nasser, Mrs. Nicholas (Adele Achem)'], dtype=object)"
      ]
     },
     "execution_count": 7,
     "metadata": {},
     "output_type": "execute_result"
    }
   ],
   "source": [
    "data1=data.head(10)['Name']\n",
    "arr=np.array(data1)\n",
    "arr"
   ]
  },
  {
   "cell_type": "code",
   "execution_count": 8,
   "metadata": {},
   "outputs": [
    {
     "data": {
      "text/html": [
       "<div>\n",
       "<style scoped>\n",
       "    .dataframe tbody tr th:only-of-type {\n",
       "        vertical-align: middle;\n",
       "    }\n",
       "\n",
       "    .dataframe tbody tr th {\n",
       "        vertical-align: top;\n",
       "    }\n",
       "\n",
       "    .dataframe thead th {\n",
       "        text-align: right;\n",
       "    }\n",
       "</style>\n",
       "<table border=\"1\" class=\"dataframe\">\n",
       "  <thead>\n",
       "    <tr style=\"text-align: right;\">\n",
       "      <th></th>\n",
       "      <th>0</th>\n",
       "    </tr>\n",
       "  </thead>\n",
       "  <tbody>\n",
       "    <tr>\n",
       "      <th>0</th>\n",
       "      <td>Braund, Mr. Owen Harris</td>\n",
       "    </tr>\n",
       "    <tr>\n",
       "      <th>1</th>\n",
       "      <td>Cumings, Mrs. John Bradley (Florence Briggs Th...</td>\n",
       "    </tr>\n",
       "    <tr>\n",
       "      <th>2</th>\n",
       "      <td>Heikkinen, Miss. Laina</td>\n",
       "    </tr>\n",
       "    <tr>\n",
       "      <th>3</th>\n",
       "      <td>Futrelle, Mrs. Jacques Heath (Lily May Peel)</td>\n",
       "    </tr>\n",
       "    <tr>\n",
       "      <th>4</th>\n",
       "      <td>Allen, Mr. William Henry</td>\n",
       "    </tr>\n",
       "    <tr>\n",
       "      <th>5</th>\n",
       "      <td>Moran, Mr. James</td>\n",
       "    </tr>\n",
       "    <tr>\n",
       "      <th>6</th>\n",
       "      <td>McCarthy, Mr. Timothy J</td>\n",
       "    </tr>\n",
       "    <tr>\n",
       "      <th>7</th>\n",
       "      <td>Palsson, Master. Gosta Leonard</td>\n",
       "    </tr>\n",
       "    <tr>\n",
       "      <th>8</th>\n",
       "      <td>Johnson, Mrs. Oscar W (Elisabeth Vilhelmina Berg)</td>\n",
       "    </tr>\n",
       "    <tr>\n",
       "      <th>9</th>\n",
       "      <td>Nasser, Mrs. Nicholas (Adele Achem)</td>\n",
       "    </tr>\n",
       "  </tbody>\n",
       "</table>\n",
       "</div>"
      ],
      "text/plain": [
       "                                                   0\n",
       "0                            Braund, Mr. Owen Harris\n",
       "1  Cumings, Mrs. John Bradley (Florence Briggs Th...\n",
       "2                             Heikkinen, Miss. Laina\n",
       "3       Futrelle, Mrs. Jacques Heath (Lily May Peel)\n",
       "4                           Allen, Mr. William Henry\n",
       "5                                   Moran, Mr. James\n",
       "6                            McCarthy, Mr. Timothy J\n",
       "7                     Palsson, Master. Gosta Leonard\n",
       "8  Johnson, Mrs. Oscar W (Elisabeth Vilhelmina Berg)\n",
       "9                Nasser, Mrs. Nicholas (Adele Achem)"
      ]
     },
     "execution_count": 8,
     "metadata": {},
     "output_type": "execute_result"
    }
   ],
   "source": [
    "df=pd.DataFrame(arr)\n",
    "df"
   ]
  },
  {
   "cell_type": "code",
   "execution_count": 9,
   "metadata": {},
   "outputs": [
    {
     "data": {
      "text/plain": [
       "<AxesSubplot:>"
      ]
     },
     "execution_count": 9,
     "metadata": {},
     "output_type": "execute_result"
    },
    {
     "data": {
      "image/png": "[encoded data removed]",
      "text/plain": [
       "<Figure size 432x288 with 1 Axes>"
      ]
     },
     "metadata": {
      "needs_background": "light"
     },
     "output_type": "display_data"
    }
   ],
   "source": [
    "#bar\n",
    "data['Age'].plot(kind='bar')"
   ]
  },
  {
   "cell_type": "code",
   "execution_count": 10,
   "metadata": {},
   "outputs": [
    {
     "data": {
      "text/plain": [
       "80.0"
      ]
     },
     "execution_count": 10,
     "metadata": {},
     "output_type": "execute_result"
    }
   ],
   "source": [
    "# highest age of passenger\n",
    "data.Age.max()"
   ]
  },
  {
   "cell_type": "code",
   "execution_count": 11,
   "metadata": {},
   "outputs": [
    {
     "data": {
      "text/plain": [
       "0    22.0\n",
       "1    38.0\n",
       "2    26.0\n",
       "3    35.0\n",
       "4    35.0\n",
       "Name: Age, dtype: float64"
      ]
     },
     "execution_count": 11,
     "metadata": {},
     "output_type": "execute_result"
    }
   ],
   "source": [
    "f = data['Age'].head()\n",
    "f\n"
   ]
  },
  {
   "cell_type": "code",
   "execution_count": 12,
   "metadata": {},
   "outputs": [
    {
     "data": {
      "text/html": [
       "<style type=\"text/css\">\n",
       "#T_27a06_row0_col0, #T_27a06_row0_col1, #T_27a06_row0_col2, #T_27a06_row0_col5, #T_27a06_row0_col6, #T_27a06_row0_col7, #T_27a06_row0_col9, #T_27a06_row1_col1, #T_27a06_row1_col2, #T_27a06_row1_col5, #T_27a06_row1_col6, #T_27a06_row1_col7, #T_27a06_row1_col9, #T_27a06_row2_col1, #T_27a06_row2_col2, #T_27a06_row2_col6, #T_27a06_row2_col7, #T_27a06_row3_col1, #T_27a06_row3_col2, #T_27a06_row3_col6, #T_27a06_row3_col7, #T_27a06_row4_col0, #T_27a06_row4_col1, #T_27a06_row4_col2, #T_27a06_row4_col6, #T_27a06_row4_col7 {\n",
       "  background-color: #e2d9e2;\n",
       "  color: #000000;\n",
       "}\n",
       "#T_27a06_row1_col0, #T_27a06_row2_col5 {\n",
       "  background-color: #b25652;\n",
       "  color: #f1f1f1;\n",
       "}\n",
       "#T_27a06_row2_col0 {\n",
       "  background-color: #301437;\n",
       "  color: #f1f1f1;\n",
       "}\n",
       "#T_27a06_row2_col9 {\n",
       "  background-color: #e1d8df;\n",
       "  color: #000000;\n",
       "}\n",
       "#T_27a06_row3_col0 {\n",
       "  background-color: #6276ba;\n",
       "  color: #f1f1f1;\n",
       "}\n",
       "#T_27a06_row3_col5, #T_27a06_row4_col5 {\n",
       "  background-color: #7297c1;\n",
       "  color: #f1f1f1;\n",
       "}\n",
       "#T_27a06_row3_col9 {\n",
       "  background-color: #5f62b4;\n",
       "  color: #f1f1f1;\n",
       "}\n",
       "#T_27a06_row4_col9 {\n",
       "  background-color: #e1d8de;\n",
       "  color: #000000;\n",
       "}\n",
       "</style>\n",
       "<table id=\"T_27a06_\">\n",
       "  <thead>\n",
       "    <tr>\n",
       "      <th class=\"blank level0\" >&nbsp;</th>\n",
       "      <th class=\"col_heading level0 col0\" >PassengerId</th>\n",
       "      <th class=\"col_heading level0 col1\" >Survived</th>\n",
       "      <th class=\"col_heading level0 col2\" >Pclass</th>\n",
       "      <th class=\"col_heading level0 col3\" >Name</th>\n",
       "      <th class=\"col_heading level0 col4\" >Sex</th>\n",
       "      <th class=\"col_heading level0 col5\" >Age</th>\n",
       "      <th class=\"col_heading level0 col6\" >SibSp</th>\n",
       "      <th class=\"col_heading level0 col7\" >Parch</th>\n",
       "      <th class=\"col_heading level0 col8\" >Ticket</th>\n",
       "      <th class=\"col_heading level0 col9\" >Fare</th>\n",
       "      <th class=\"col_heading level0 col10\" >Cabin</th>\n",
       "      <th class=\"col_heading level0 col11\" >Embarked</th>\n",
       "    </tr>\n",
       "  </thead>\n",
       "  <tbody>\n",
       "    <tr>\n",
       "      <th id=\"T_27a06_level0_row0\" class=\"row_heading level0 row0\" >0</th>\n",
       "      <td id=\"T_27a06_row0_col0\" class=\"data row0 col0\" >1</td>\n",
       "      <td id=\"T_27a06_row0_col1\" class=\"data row0 col1\" >0</td>\n",
       "      <td id=\"T_27a06_row0_col2\" class=\"data row0 col2\" >3</td>\n",
       "      <td id=\"T_27a06_row0_col3\" class=\"data row0 col3\" >Braund, Mr. Owen Harris</td>\n",
       "      <td id=\"T_27a06_row0_col4\" class=\"data row0 col4\" >male</td>\n",
       "      <td id=\"T_27a06_row0_col5\" class=\"data row0 col5\" >22.000000</td>\n",
       "      <td id=\"T_27a06_row0_col6\" class=\"data row0 col6\" >1</td>\n",
       "      <td id=\"T_27a06_row0_col7\" class=\"data row0 col7\" >0</td>\n",
       "      <td id=\"T_27a06_row0_col8\" class=\"data row0 col8\" >A/5 21171</td>\n",
       "      <td id=\"T_27a06_row0_col9\" class=\"data row0 col9\" >7.250000</td>\n",
       "      <td id=\"T_27a06_row0_col10\" class=\"data row0 col10\" >nan</td>\n",
       "      <td id=\"T_27a06_row0_col11\" class=\"data row0 col11\" >S</td>\n",
       "    </tr>\n",
       "    <tr>\n",
       "      <th id=\"T_27a06_level0_row1\" class=\"row_heading level0 row1\" >1</th>\n",
       "      <td id=\"T_27a06_row1_col0\" class=\"data row1 col0\" >2</td>\n",
       "      <td id=\"T_27a06_row1_col1\" class=\"data row1 col1\" >1</td>\n",
       "      <td id=\"T_27a06_row1_col2\" class=\"data row1 col2\" >1</td>\n",
       "      <td id=\"T_27a06_row1_col3\" class=\"data row1 col3\" >Cumings, Mrs. John Bradley (Florence Briggs Thayer)</td>\n",
       "      <td id=\"T_27a06_row1_col4\" class=\"data row1 col4\" >female</td>\n",
       "      <td id=\"T_27a06_row1_col5\" class=\"data row1 col5\" >38.000000</td>\n",
       "      <td id=\"T_27a06_row1_col6\" class=\"data row1 col6\" >1</td>\n",
       "      <td id=\"T_27a06_row1_col7\" class=\"data row1 col7\" >0</td>\n",
       "      <td id=\"T_27a06_row1_col8\" class=\"data row1 col8\" >PC 17599</td>\n",
       "      <td id=\"T_27a06_row1_col9\" class=\"data row1 col9\" >71.283300</td>\n",
       "      <td id=\"T_27a06_row1_col10\" class=\"data row1 col10\" >C85</td>\n",
       "      <td id=\"T_27a06_row1_col11\" class=\"data row1 col11\" >C</td>\n",
       "    </tr>\n",
       "    <tr>\n",
       "      <th id=\"T_27a06_level0_row2\" class=\"row_heading level0 row2\" >2</th>\n",
       "      <td id=\"T_27a06_row2_col0\" class=\"data row2 col0\" >3</td>\n",
       "      <td id=\"T_27a06_row2_col1\" class=\"data row2 col1\" >1</td>\n",
       "      <td id=\"T_27a06_row2_col2\" class=\"data row2 col2\" >3</td>\n",
       "      <td id=\"T_27a06_row2_col3\" class=\"data row2 col3\" >Heikkinen, Miss. Laina</td>\n",
       "      <td id=\"T_27a06_row2_col4\" class=\"data row2 col4\" >female</td>\n",
       "      <td id=\"T_27a06_row2_col5\" class=\"data row2 col5\" >26.000000</td>\n",
       "      <td id=\"T_27a06_row2_col6\" class=\"data row2 col6\" >0</td>\n",
       "      <td id=\"T_27a06_row2_col7\" class=\"data row2 col7\" >0</td>\n",
       "      <td id=\"T_27a06_row2_col8\" class=\"data row2 col8\" >STON/O2. 3101282</td>\n",
       "      <td id=\"T_27a06_row2_col9\" class=\"data row2 col9\" >7.925000</td>\n",
       "      <td id=\"T_27a06_row2_col10\" class=\"data row2 col10\" >nan</td>\n",
       "      <td id=\"T_27a06_row2_col11\" class=\"data row2 col11\" >S</td>\n",
       "    </tr>\n",
       "    <tr>\n",
       "      <th id=\"T_27a06_level0_row3\" class=\"row_heading level0 row3\" >3</th>\n",
       "      <td id=\"T_27a06_row3_col0\" class=\"data row3 col0\" >4</td>\n",
       "      <td id=\"T_27a06_row3_col1\" class=\"data row3 col1\" >1</td>\n",
       "      <td id=\"T_27a06_row3_col2\" class=\"data row3 col2\" >1</td>\n",
       "      <td id=\"T_27a06_row3_col3\" class=\"data row3 col3\" >Futrelle, Mrs. Jacques Heath (Lily May Peel)</td>\n",
       "      <td id=\"T_27a06_row3_col4\" class=\"data row3 col4\" >female</td>\n",
       "      <td id=\"T_27a06_row3_col5\" class=\"data row3 col5\" >35.000000</td>\n",
       "      <td id=\"T_27a06_row3_col6\" class=\"data row3 col6\" >1</td>\n",
       "      <td id=\"T_27a06_row3_col7\" class=\"data row3 col7\" >0</td>\n",
       "      <td id=\"T_27a06_row3_col8\" class=\"data row3 col8\" >113803</td>\n",
       "      <td id=\"T_27a06_row3_col9\" class=\"data row3 col9\" >53.100000</td>\n",
       "      <td id=\"T_27a06_row3_col10\" class=\"data row3 col10\" >C123</td>\n",
       "      <td id=\"T_27a06_row3_col11\" class=\"data row3 col11\" >S</td>\n",
       "    </tr>\n",
       "    <tr>\n",
       "      <th id=\"T_27a06_level0_row4\" class=\"row_heading level0 row4\" >4</th>\n",
       "      <td id=\"T_27a06_row4_col0\" class=\"data row4 col0\" >5</td>\n",
       "      <td id=\"T_27a06_row4_col1\" class=\"data row4 col1\" >0</td>\n",
       "      <td id=\"T_27a06_row4_col2\" class=\"data row4 col2\" >3</td>\n",
       "      <td id=\"T_27a06_row4_col3\" class=\"data row4 col3\" >Allen, Mr. William Henry</td>\n",
       "      <td id=\"T_27a06_row4_col4\" class=\"data row4 col4\" >male</td>\n",
       "      <td id=\"T_27a06_row4_col5\" class=\"data row4 col5\" >35.000000</td>\n",
       "      <td id=\"T_27a06_row4_col6\" class=\"data row4 col6\" >0</td>\n",
       "      <td id=\"T_27a06_row4_col7\" class=\"data row4 col7\" >0</td>\n",
       "      <td id=\"T_27a06_row4_col8\" class=\"data row4 col8\" >373450</td>\n",
       "      <td id=\"T_27a06_row4_col9\" class=\"data row4 col9\" >8.050000</td>\n",
       "      <td id=\"T_27a06_row4_col10\" class=\"data row4 col10\" >nan</td>\n",
       "      <td id=\"T_27a06_row4_col11\" class=\"data row4 col11\" >S</td>\n",
       "    </tr>\n",
       "  </tbody>\n",
       "</table>\n"
      ],
      "text/plain": [
       "<pandas.io.formats.style.Styler at 0x205d6d8db50>"
      ]
     },
     "execution_count": 12,
     "metadata": {},
     "output_type": "execute_result"
    }
   ],
   "source": [
    "#first 5 entries\n",
    "data.head().style.background_gradient(cmap='twilight_r')"
   ]
  },
  {
   "cell_type": "markdown",
   "metadata": {},
   "source": [
    "# Numerical Feature Analysis"
   ]
  },
  {
   "cell_type": "code",
   "execution_count": 13,
   "metadata": {},
   "outputs": [
    {
     "data": {
      "text/plain": [
       "PassengerId      int64\n",
       "Survived         int64\n",
       "Pclass           int64\n",
       "Name            object\n",
       "Sex             object\n",
       "Age            float64\n",
       "SibSp            int64\n",
       "Parch            int64\n",
       "Ticket          object\n",
       "Fare           float64\n",
       "Cabin           object\n",
       "Embarked        object\n",
       "dtype: object"
      ]
     },
     "execution_count": 13,
     "metadata": {},
     "output_type": "execute_result"
    }
   ],
   "source": [
    "data.dtypes"
   ]
  },
  {
   "cell_type": "code",
   "execution_count": 14,
   "metadata": {},
   "outputs": [
    {
     "data": {
      "text/html": [
       "<div>\n",
       "<style scoped>\n",
       "    .dataframe tbody tr th:only-of-type {\n",
       "        vertical-align: middle;\n",
       "    }\n",
       "\n",
       "    .dataframe tbody tr th {\n",
       "        vertical-align: top;\n",
       "    }\n",
       "\n",
       "    .dataframe thead th {\n",
       "        text-align: right;\n",
       "    }\n",
       "</style>\n",
       "<table border=\"1\" class=\"dataframe\">\n",
       "  <thead>\n",
       "    <tr style=\"text-align: right;\">\n",
       "      <th></th>\n",
       "      <th>PassengerId</th>\n",
       "      <th>Survived</th>\n",
       "      <th>Pclass</th>\n",
       "      <th>Age</th>\n",
       "      <th>SibSp</th>\n",
       "      <th>Parch</th>\n",
       "      <th>Fare</th>\n",
       "    </tr>\n",
       "  </thead>\n",
       "  <tbody>\n",
       "    <tr>\n",
       "      <th>0</th>\n",
       "      <td>1</td>\n",
       "      <td>0</td>\n",
       "      <td>3</td>\n",
       "      <td>22.0</td>\n",
       "      <td>1</td>\n",
       "      <td>0</td>\n",
       "      <td>7.2500</td>\n",
       "    </tr>\n",
       "    <tr>\n",
       "      <th>1</th>\n",
       "      <td>2</td>\n",
       "      <td>1</td>\n",
       "      <td>1</td>\n",
       "      <td>38.0</td>\n",
       "      <td>1</td>\n",
       "      <td>0</td>\n",
       "      <td>71.2833</td>\n",
       "    </tr>\n",
       "    <tr>\n",
       "      <th>2</th>\n",
       "      <td>3</td>\n",
       "      <td>1</td>\n",
       "      <td>3</td>\n",
       "      <td>26.0</td>\n",
       "      <td>0</td>\n",
       "      <td>0</td>\n",
       "      <td>7.9250</td>\n",
       "    </tr>\n",
       "    <tr>\n",
       "      <th>3</th>\n",
       "      <td>4</td>\n",
       "      <td>1</td>\n",
       "      <td>1</td>\n",
       "      <td>35.0</td>\n",
       "      <td>1</td>\n",
       "      <td>0</td>\n",
       "      <td>53.1000</td>\n",
       "    </tr>\n",
       "    <tr>\n",
       "      <th>4</th>\n",
       "      <td>5</td>\n",
       "      <td>0</td>\n",
       "      <td>3</td>\n",
       "      <td>35.0</td>\n",
       "      <td>0</td>\n",
       "      <td>0</td>\n",
       "      <td>8.0500</td>\n",
       "    </tr>\n",
       "    <tr>\n",
       "      <th>...</th>\n",
       "      <td>...</td>\n",
       "      <td>...</td>\n",
       "      <td>...</td>\n",
       "      <td>...</td>\n",
       "      <td>...</td>\n",
       "      <td>...</td>\n",
       "      <td>...</td>\n",
       "    </tr>\n",
       "    <tr>\n",
       "      <th>886</th>\n",
       "      <td>887</td>\n",
       "      <td>0</td>\n",
       "      <td>2</td>\n",
       "      <td>27.0</td>\n",
       "      <td>0</td>\n",
       "      <td>0</td>\n",
       "      <td>13.0000</td>\n",
       "    </tr>\n",
       "    <tr>\n",
       "      <th>887</th>\n",
       "      <td>888</td>\n",
       "      <td>1</td>\n",
       "      <td>1</td>\n",
       "      <td>19.0</td>\n",
       "      <td>0</td>\n",
       "      <td>0</td>\n",
       "      <td>30.0000</td>\n",
       "    </tr>\n",
       "    <tr>\n",
       "      <th>888</th>\n",
       "      <td>889</td>\n",
       "      <td>0</td>\n",
       "      <td>3</td>\n",
       "      <td>NaN</td>\n",
       "      <td>1</td>\n",
       "      <td>2</td>\n",
       "      <td>23.4500</td>\n",
       "    </tr>\n",
       "    <tr>\n",
       "      <th>889</th>\n",
       "      <td>890</td>\n",
       "      <td>1</td>\n",
       "      <td>1</td>\n",
       "      <td>26.0</td>\n",
       "      <td>0</td>\n",
       "      <td>0</td>\n",
       "      <td>30.0000</td>\n",
       "    </tr>\n",
       "    <tr>\n",
       "      <th>890</th>\n",
       "      <td>891</td>\n",
       "      <td>0</td>\n",
       "      <td>3</td>\n",
       "      <td>32.0</td>\n",
       "      <td>0</td>\n",
       "      <td>0</td>\n",
       "      <td>7.7500</td>\n",
       "    </tr>\n",
       "  </tbody>\n",
       "</table>\n",
       "<p>891 rows × 7 columns</p>\n",
       "</div>"
      ],
      "text/plain": [
       "     PassengerId  Survived  Pclass   Age  SibSp  Parch     Fare\n",
       "0              1         0       3  22.0      1      0   7.2500\n",
       "1              2         1       1  38.0      1      0  71.2833\n",
       "2              3         1       3  26.0      0      0   7.9250\n",
       "3              4         1       1  35.0      1      0  53.1000\n",
       "4              5         0       3  35.0      0      0   8.0500\n",
       "..           ...       ...     ...   ...    ...    ...      ...\n",
       "886          887         0       2  27.0      0      0  13.0000\n",
       "887          888         1       1  19.0      0      0  30.0000\n",
       "888          889         0       3   NaN      1      2  23.4500\n",
       "889          890         1       1  26.0      0      0  30.0000\n",
       "890          891         0       3  32.0      0      0   7.7500\n",
       "\n",
       "[891 rows x 7 columns]"
      ]
     },
     "execution_count": 14,
     "metadata": {},
     "output_type": "execute_result"
    }
   ],
   "source": [
    "#only numeric columns\n",
    "data.select_dtypes(exclude=['object'])"
   ]
  },
  {
   "cell_type": "markdown",
   "metadata": {},
   "source": [
    "## Statistical Analysis"
   ]
  },
  {
   "cell_type": "code",
   "execution_count": 15,
   "metadata": {
    "scrolled": true
   },
   "outputs": [
    {
     "data": {
      "text/html": [
       "<style type=\"text/css\">\n",
       "#T_3c1ec_row0_col0, #T_3c1ec_row0_col1, #T_3c1ec_row0_col2, #T_3c1ec_row0_col3, #T_3c1ec_row0_col4, #T_3c1ec_row0_col5, #T_3c1ec_row0_col6, #T_3c1ec_row0_col7, #T_3c1ec_row1_col0, #T_3c1ec_row2_col0, #T_3c1ec_row2_col3, #T_3c1ec_row4_col0, #T_3c1ec_row5_col0, #T_3c1ec_row6_col0 {\n",
       "  background-color: #a50026;\n",
       "  color: #f1f1f1;\n",
       "}\n",
       "#T_3c1ec_row1_col1, #T_3c1ec_row1_col2, #T_3c1ec_row1_col3, #T_3c1ec_row1_col4, #T_3c1ec_row1_col5, #T_3c1ec_row1_col6, #T_3c1ec_row1_col7, #T_3c1ec_row2_col2, #T_3c1ec_row2_col7, #T_3c1ec_row3_col0, #T_3c1ec_row4_col1, #T_3c1ec_row4_col2, #T_3c1ec_row4_col3, #T_3c1ec_row4_col4, #T_3c1ec_row4_col5, #T_3c1ec_row4_col6, #T_3c1ec_row5_col1, #T_3c1ec_row5_col2, #T_3c1ec_row5_col3, #T_3c1ec_row5_col4, #T_3c1ec_row5_col5, #T_3c1ec_row5_col6, #T_3c1ec_row6_col3 {\n",
       "  background-color: #313695;\n",
       "  color: #f1f1f1;\n",
       "}\n",
       "#T_3c1ec_row2_col1, #T_3c1ec_row2_col5, #T_3c1ec_row2_col6, #T_3c1ec_row5_col7 {\n",
       "  background-color: #323896;\n",
       "  color: #f1f1f1;\n",
       "}\n",
       "#T_3c1ec_row2_col4, #T_3c1ec_row4_col7 {\n",
       "  background-color: #333b97;\n",
       "  color: #f1f1f1;\n",
       "}\n",
       "#T_3c1ec_row3_col1, #T_3c1ec_row3_col5 {\n",
       "  background-color: #3e5ea8;\n",
       "  color: #f1f1f1;\n",
       "}\n",
       "#T_3c1ec_row3_col2 {\n",
       "  background-color: #3b56a5;\n",
       "  color: #f1f1f1;\n",
       "}\n",
       "#T_3c1ec_row3_col3 {\n",
       "  background-color: #e6f5ed;\n",
       "  color: #000000;\n",
       "}\n",
       "#T_3c1ec_row3_col4 {\n",
       "  background-color: #436fb1;\n",
       "  color: #f1f1f1;\n",
       "}\n",
       "#T_3c1ec_row3_col6 {\n",
       "  background-color: #3c59a6;\n",
       "  color: #f1f1f1;\n",
       "}\n",
       "#T_3c1ec_row3_col7 {\n",
       "  background-color: #426cb0;\n",
       "  color: #f1f1f1;\n",
       "}\n",
       "#T_3c1ec_row6_col1 {\n",
       "  background-color: #3f62ab;\n",
       "  color: #f1f1f1;\n",
       "}\n",
       "#T_3c1ec_row6_col2 {\n",
       "  background-color: #70a9cf;\n",
       "  color: #f1f1f1;\n",
       "}\n",
       "#T_3c1ec_row6_col4 {\n",
       "  background-color: #384ca0;\n",
       "  color: #f1f1f1;\n",
       "}\n",
       "#T_3c1ec_row6_col5 {\n",
       "  background-color: #374a9f;\n",
       "  color: #f1f1f1;\n",
       "}\n",
       "#T_3c1ec_row6_col6 {\n",
       "  background-color: #3a51a2;\n",
       "  color: #f1f1f1;\n",
       "}\n",
       "#T_3c1ec_row6_col7 {\n",
       "  background-color: #fee79b;\n",
       "  color: #000000;\n",
       "}\n",
       "</style>\n",
       "<table id=\"T_3c1ec_\">\n",
       "  <thead>\n",
       "    <tr>\n",
       "      <th class=\"blank level0\" >&nbsp;</th>\n",
       "      <th class=\"col_heading level0 col0\" >count</th>\n",
       "      <th class=\"col_heading level0 col1\" >mean</th>\n",
       "      <th class=\"col_heading level0 col2\" >std</th>\n",
       "      <th class=\"col_heading level0 col3\" >min</th>\n",
       "      <th class=\"col_heading level0 col4\" >25%</th>\n",
       "      <th class=\"col_heading level0 col5\" >50%</th>\n",
       "      <th class=\"col_heading level0 col6\" >75%</th>\n",
       "      <th class=\"col_heading level0 col7\" >max</th>\n",
       "    </tr>\n",
       "  </thead>\n",
       "  <tbody>\n",
       "    <tr>\n",
       "      <th id=\"T_3c1ec_level0_row0\" class=\"row_heading level0 row0\" >PassengerId</th>\n",
       "      <td id=\"T_3c1ec_row0_col0\" class=\"data row0 col0\" >891.000000</td>\n",
       "      <td id=\"T_3c1ec_row0_col1\" class=\"data row0 col1\" >446.000000</td>\n",
       "      <td id=\"T_3c1ec_row0_col2\" class=\"data row0 col2\" >257.353842</td>\n",
       "      <td id=\"T_3c1ec_row0_col3\" class=\"data row0 col3\" >1.000000</td>\n",
       "      <td id=\"T_3c1ec_row0_col4\" class=\"data row0 col4\" >223.500000</td>\n",
       "      <td id=\"T_3c1ec_row0_col5\" class=\"data row0 col5\" >446.000000</td>\n",
       "      <td id=\"T_3c1ec_row0_col6\" class=\"data row0 col6\" >668.500000</td>\n",
       "      <td id=\"T_3c1ec_row0_col7\" class=\"data row0 col7\" >891.000000</td>\n",
       "    </tr>\n",
       "    <tr>\n",
       "      <th id=\"T_3c1ec_level0_row1\" class=\"row_heading level0 row1\" >Survived</th>\n",
       "      <td id=\"T_3c1ec_row1_col0\" class=\"data row1 col0\" >891.000000</td>\n",
       "      <td id=\"T_3c1ec_row1_col1\" class=\"data row1 col1\" >0.383838</td>\n",
       "      <td id=\"T_3c1ec_row1_col2\" class=\"data row1 col2\" >0.486592</td>\n",
       "      <td id=\"T_3c1ec_row1_col3\" class=\"data row1 col3\" >0.000000</td>\n",
       "      <td id=\"T_3c1ec_row1_col4\" class=\"data row1 col4\" >0.000000</td>\n",
       "      <td id=\"T_3c1ec_row1_col5\" class=\"data row1 col5\" >0.000000</td>\n",
       "      <td id=\"T_3c1ec_row1_col6\" class=\"data row1 col6\" >1.000000</td>\n",
       "      <td id=\"T_3c1ec_row1_col7\" class=\"data row1 col7\" >1.000000</td>\n",
       "    </tr>\n",
       "    <tr>\n",
       "      <th id=\"T_3c1ec_level0_row2\" class=\"row_heading level0 row2\" >Pclass</th>\n",
       "      <td id=\"T_3c1ec_row2_col0\" class=\"data row2 col0\" >891.000000</td>\n",
       "      <td id=\"T_3c1ec_row2_col1\" class=\"data row2 col1\" >2.308642</td>\n",
       "      <td id=\"T_3c1ec_row2_col2\" class=\"data row2 col2\" >0.836071</td>\n",
       "      <td id=\"T_3c1ec_row2_col3\" class=\"data row2 col3\" >1.000000</td>\n",
       "      <td id=\"T_3c1ec_row2_col4\" class=\"data row2 col4\" >2.000000</td>\n",
       "      <td id=\"T_3c1ec_row2_col5\" class=\"data row2 col5\" >3.000000</td>\n",
       "      <td id=\"T_3c1ec_row2_col6\" class=\"data row2 col6\" >3.000000</td>\n",
       "      <td id=\"T_3c1ec_row2_col7\" class=\"data row2 col7\" >3.000000</td>\n",
       "    </tr>\n",
       "    <tr>\n",
       "      <th id=\"T_3c1ec_level0_row3\" class=\"row_heading level0 row3\" >Age</th>\n",
       "      <td id=\"T_3c1ec_row3_col0\" class=\"data row3 col0\" >714.000000</td>\n",
       "      <td id=\"T_3c1ec_row3_col1\" class=\"data row3 col1\" >29.699118</td>\n",
       "      <td id=\"T_3c1ec_row3_col2\" class=\"data row3 col2\" >14.526497</td>\n",
       "      <td id=\"T_3c1ec_row3_col3\" class=\"data row3 col3\" >0.420000</td>\n",
       "      <td id=\"T_3c1ec_row3_col4\" class=\"data row3 col4\" >20.125000</td>\n",
       "      <td id=\"T_3c1ec_row3_col5\" class=\"data row3 col5\" >28.000000</td>\n",
       "      <td id=\"T_3c1ec_row3_col6\" class=\"data row3 col6\" >38.000000</td>\n",
       "      <td id=\"T_3c1ec_row3_col7\" class=\"data row3 col7\" >80.000000</td>\n",
       "    </tr>\n",
       "    <tr>\n",
       "      <th id=\"T_3c1ec_level0_row4\" class=\"row_heading level0 row4\" >SibSp</th>\n",
       "      <td id=\"T_3c1ec_row4_col0\" class=\"data row4 col0\" >891.000000</td>\n",
       "      <td id=\"T_3c1ec_row4_col1\" class=\"data row4 col1\" >0.523008</td>\n",
       "      <td id=\"T_3c1ec_row4_col2\" class=\"data row4 col2\" >1.102743</td>\n",
       "      <td id=\"T_3c1ec_row4_col3\" class=\"data row4 col3\" >0.000000</td>\n",
       "      <td id=\"T_3c1ec_row4_col4\" class=\"data row4 col4\" >0.000000</td>\n",
       "      <td id=\"T_3c1ec_row4_col5\" class=\"data row4 col5\" >0.000000</td>\n",
       "      <td id=\"T_3c1ec_row4_col6\" class=\"data row4 col6\" >1.000000</td>\n",
       "      <td id=\"T_3c1ec_row4_col7\" class=\"data row4 col7\" >8.000000</td>\n",
       "    </tr>\n",
       "    <tr>\n",
       "      <th id=\"T_3c1ec_level0_row5\" class=\"row_heading level0 row5\" >Parch</th>\n",
       "      <td id=\"T_3c1ec_row5_col0\" class=\"data row5 col0\" >891.000000</td>\n",
       "      <td id=\"T_3c1ec_row5_col1\" class=\"data row5 col1\" >0.381594</td>\n",
       "      <td id=\"T_3c1ec_row5_col2\" class=\"data row5 col2\" >0.806057</td>\n",
       "      <td id=\"T_3c1ec_row5_col3\" class=\"data row5 col3\" >0.000000</td>\n",
       "      <td id=\"T_3c1ec_row5_col4\" class=\"data row5 col4\" >0.000000</td>\n",
       "      <td id=\"T_3c1ec_row5_col5\" class=\"data row5 col5\" >0.000000</td>\n",
       "      <td id=\"T_3c1ec_row5_col6\" class=\"data row5 col6\" >0.000000</td>\n",
       "      <td id=\"T_3c1ec_row5_col7\" class=\"data row5 col7\" >6.000000</td>\n",
       "    </tr>\n",
       "    <tr>\n",
       "      <th id=\"T_3c1ec_level0_row6\" class=\"row_heading level0 row6\" >Fare</th>\n",
       "      <td id=\"T_3c1ec_row6_col0\" class=\"data row6 col0\" >891.000000</td>\n",
       "      <td id=\"T_3c1ec_row6_col1\" class=\"data row6 col1\" >32.204208</td>\n",
       "      <td id=\"T_3c1ec_row6_col2\" class=\"data row6 col2\" >49.693429</td>\n",
       "      <td id=\"T_3c1ec_row6_col3\" class=\"data row6 col3\" >0.000000</td>\n",
       "      <td id=\"T_3c1ec_row6_col4\" class=\"data row6 col4\" >7.910400</td>\n",
       "      <td id=\"T_3c1ec_row6_col5\" class=\"data row6 col5\" >14.454200</td>\n",
       "      <td id=\"T_3c1ec_row6_col6\" class=\"data row6 col6\" >31.000000</td>\n",
       "      <td id=\"T_3c1ec_row6_col7\" class=\"data row6 col7\" >512.329200</td>\n",
       "    </tr>\n",
       "  </tbody>\n",
       "</table>\n"
      ],
      "text/plain": [
       "<pandas.io.formats.style.Styler at 0x205d70fdb50>"
      ]
     },
     "execution_count": 15,
     "metadata": {},
     "output_type": "execute_result"
    }
   ],
   "source": [
    "numeric = data.select_dtypes(exclude=['object'])\n",
    "numeric.describe().T.style.background_gradient(cmap='RdYlBu_r')"
   ]
  },
  {
   "cell_type": "code",
   "execution_count": 16,
   "metadata": {
    "scrolled": true
   },
   "outputs": [
    {
     "data": {
      "text/plain": [
       "<AxesSubplot:>"
      ]
     },
     "execution_count": 16,
     "metadata": {},
     "output_type": "execute_result"
    },
    {
     "data": {
      "image/png": "[encoded data removed]",
      "text/plain": [
       "<Figure size 432x288 with 1 Axes>"
      ]
     },
     "metadata": {
      "needs_background": "light"
     },
     "output_type": "display_data"
    }
   ],
   "source": [
    "numeric['Age'].plot(kind='box')"
   ]
  },
  {
   "cell_type": "code",
   "execution_count": 17,
   "metadata": {},
   "outputs": [
    {
     "data": {
      "image/png": "[encoded data removed]",
      "text/plain": [
       "<Figure size 504x504 with 1 Axes>"
      ]
     },
     "metadata": {},
     "output_type": "display_data"
    }
   ],
   "source": [
    "size = list(numeric['Survived'].value_counts())\n",
    "labels = ['Not Survived', 'Survived']\n",
    "colors = ['lavender', 'paleturquoise']\n",
    "explode = [0, 0.1]\n",
    "\n",
    "def func(pct, allvals):\n",
    "    absolute = int(round(pct/100*np.sum(allvals)))\n",
    "    return \"{:.1f}%\\n({:d} Passengers)\".format(pct, absolute)\n",
    "\n",
    "plt.subplots(figsize=(7,7))\n",
    "plt.pie(size, labels = labels, colors = colors, explode = explode, shadow = True, \n",
    "        autopct = lambda pct: func(pct, size), labeldistance=1.1)\n",
    "\n",
    "plt.title('Percentage of Survived & Not Survived Passengers in Titanic', fontsize = 20)\n",
    "plt.rcParams['font.family'] = 'DeJavu Serif'\n",
    "plt.rcParams['font.serif'] = ['Times New Roman']\n",
    "plt.legend()\n",
    "plt.show()"
   ]
  },
  {
   "cell_type": "code",
   "execution_count": 18,
   "metadata": {},
   "outputs": [
    {
     "data": {
      "image/png": "[encoded data removed]",
      "text/plain": [
       "<Figure size 576x576 with 1 Axes>"
      ]
     },
     "metadata": {},
     "output_type": "display_data"
    }
   ],
   "source": [
    "size = list(numeric['Pclass'].value_counts())\n",
    "labels = ['3rd Class', '1st Class', '2nd Class']\n",
    "colors = ['plum', 'yellowgreen', 'lightskyblue']\n",
    "explode = [0, 0.1, 0.1]\n",
    "\n",
    "def func(pct, allvals):\n",
    "    absolute = int(round(pct/100*np.sum(allvals)))\n",
    "    return \"{:.1f}%\\n({:d} Passengers)\".format(pct, absolute)\n",
    "\n",
    "plt.subplots(figsize=(8,8))\n",
    "plt.pie(size, labels = labels, colors = colors, explode = explode, shadow = True, \n",
    "        autopct = lambda pct: func(pct, size), labeldistance=1.1)\n",
    "\n",
    "plt.title('Percentage of Passengers \\nfor different Fare classes in Titanic', fontsize = 20)\n",
    "plt.legend()\n",
    "plt.show()"
   ]
  },
  {
   "cell_type": "code",
   "execution_count": 19,
   "metadata": {},
   "outputs": [
    {
     "name": "stdout",
     "output_type": "stream",
     "text": [
      "Pclass\n",
      "1    84.154687\n",
      "2    20.662183\n",
      "3    13.675550\n",
      "Name: Fare, dtype: float64\n"
     ]
    },
    {
     "data": {
      "image/png": "[encoded data removed]",
      "text/plain": [
       "<Figure size 432x288 with 1 Axes>"
      ]
     },
     "metadata": {
      "needs_background": "light"
     },
     "output_type": "display_data"
    }
   ],
   "source": [
    "print(numeric.groupby('Pclass')['Fare'].mean())\n",
    "numeric.groupby('Pclass')['Fare'].mean().plot.barh(color=['mediumseagreen', 'dodgerblue', 'mediumvioletred']);"
   ]
  },
  {
   "cell_type": "code",
   "execution_count": 20,
   "metadata": {},
   "outputs": [],
   "source": [
    "categfeatures = data.select_dtypes(include=['object']).columns\n",
    "categ = data[categfeatures]\n"
   ]
  },
  {
   "cell_type": "code",
   "execution_count": 21,
   "metadata": {},
   "outputs": [
    {
     "data": {
      "image/png": "[encoded data removed]",
      "text/plain": [
       "<Figure size 576x576 with 1 Axes>"
      ]
     },
     "metadata": {},
     "output_type": "display_data"
    }
   ],
   "source": [
    "size = list(categ['Embarked'].value_counts())\n",
    "labels = ['Southampton', 'Cherbourg', 'Queenstown']\n",
    "colors = ['deepskyblue', 'salmon', 'gold']\n",
    "\n",
    "def func(pct, allvals):\n",
    "    absolute = int(round(pct/100*np.sum(allvals)))\n",
    "    return \"{:.1f}%\\n({:d} \\nPassengers)\".format(pct, absolute)\n",
    "\n",
    "fig1, ax = plt.subplots(figsize=(8,8))\n",
    "patches, texts, autotexts = ax.pie(size, labels = labels, colors = colors, shadow = True, \n",
    "                                    autopct = lambda pct: func(pct, size), labeldistance=0.9,\n",
    "                                    startangle=180, counterclock=False, rotatelabels=True,)\n",
    "\n",
    "plt.setp(texts, rotation_mode=\"anchor\", ha=\"center\", va=\"center\")\n",
    "for t, at in zip(texts, autotexts):\n",
    "    rot = t.get_rotation()\n",
    "    t.set_rotation(rot + 90 + (1 - rot // 180) * 180)\n",
    "    at.set_rotation(t.get_rotation())\n",
    "\n",
    "# draw circle\n",
    "centre_circle = plt.Circle((0, 0), 0.45, fc='white')\n",
    "fig = plt.gcf()\n",
    "  \n",
    "# Adding Circle in Pie chart\n",
    "fig.gca().add_artist(centre_circle)\n",
    "\n",
    "\n",
    "plt.title('Percentage of Passengers embarked from different Ports', fontsize = 20)\n",
    "plt.legend()\n",
    "plt.show()\n"
   ]
  },
  {
   "cell_type": "code",
   "execution_count": 5,
   "metadata": {},
   "outputs": [
    {
     "data": {
      "text/html": [
       "<div>\n",
       "<style scoped>\n",
       "    .dataframe tbody tr th:only-of-type {\n",
       "        vertical-align: middle;\n",
       "    }\n",
       "\n",
       "    .dataframe tbody tr th {\n",
       "        vertical-align: top;\n",
       "    }\n",
       "\n",
       "    .dataframe thead th {\n",
       "        text-align: right;\n",
       "    }\n",
       "</style>\n",
       "<table border=\"1\" class=\"dataframe\">\n",
       "  <thead>\n",
       "    <tr style=\"text-align: right;\">\n",
       "      <th></th>\n",
       "      <th>PassengerId</th>\n",
       "      <th>Survived</th>\n",
       "    </tr>\n",
       "  </thead>\n",
       "  <tbody>\n",
       "    <tr>\n",
       "      <th>0</th>\n",
       "      <td>892</td>\n",
       "      <td>0</td>\n",
       "    </tr>\n",
       "    <tr>\n",
       "      <th>1</th>\n",
       "      <td>893</td>\n",
       "      <td>1</td>\n",
       "    </tr>\n",
       "    <tr>\n",
       "      <th>2</th>\n",
       "      <td>894</td>\n",
       "      <td>0</td>\n",
       "    </tr>\n",
       "    <tr>\n",
       "      <th>3</th>\n",
       "      <td>895</td>\n",
       "      <td>0</td>\n",
       "    </tr>\n",
       "    <tr>\n",
       "      <th>4</th>\n",
       "      <td>896</td>\n",
       "      <td>1</td>\n",
       "    </tr>\n",
       "    <tr>\n",
       "      <th>5</th>\n",
       "      <td>897</td>\n",
       "      <td>0</td>\n",
       "    </tr>\n",
       "    <tr>\n",
       "      <th>6</th>\n",
       "      <td>898</td>\n",
       "      <td>1</td>\n",
       "    </tr>\n",
       "    <tr>\n",
       "      <th>7</th>\n",
       "      <td>899</td>\n",
       "      <td>0</td>\n",
       "    </tr>\n",
       "    <tr>\n",
       "      <th>8</th>\n",
       "      <td>900</td>\n",
       "      <td>1</td>\n",
       "    </tr>\n",
       "    <tr>\n",
       "      <th>9</th>\n",
       "      <td>901</td>\n",
       "      <td>0</td>\n",
       "    </tr>\n",
       "  </tbody>\n",
       "</table>\n",
       "</div>"
      ],
      "text/plain": [
       "   PassengerId  Survived\n",
       "0          892         0\n",
       "1          893         1\n",
       "2          894         0\n",
       "3          895         0\n",
       "4          896         1\n",
       "5          897         0\n",
       "6          898         1\n",
       "7          899         0\n",
       "8          900         1\n",
       "9          901         0"
      ]
     },
     "execution_count": 5,
     "metadata": {},
     "output_type": "execute_result"
    }
   ],
   "source": [
    "data1 = pd.read_csv('gender_submission.csv')\n",
    "data1.head(10)"
   ]
  },
  {
   "cell_type": "code",
   "execution_count": null,
   "metadata": {},
   "outputs": [],
   "source": []
  },
  {
   "cell_type": "raw",
   "metadata": {},
   "source": [
    "# conclusion\n",
    "2)Majority of the passengers (61.6%) in Titanic, were not able to survive.\n",
    "Only 38.4% passengers were able to survive.\n",
    "\n",
    "1)The Survival rate of Premium(1st) Class passengers is higher than other two passenger classes."
   ]
  },
  {
   "cell_type": "code",
   "execution_count": null,
   "metadata": {},
   "outputs": [],
   "source": []
  }
 ],
 "metadata": {
  "kernelspec": {
   "display_name": "Python 3 (ipykernel)",
   "language": "python",
   "name": "python3"
  },
  "language_info": {
   "codemirror_mode": {
    "name": "ipython",
    "version": 3
   },
   "file_extension": ".py",
   "mimetype": "text/x-python",
   "name": "python",
   "nbconvert_exporter": "python",
   "pygments_lexer": "ipython3",
   "version": "3.9.6"
  }
 },
 "nbformat": 4,
 "nbformat_minor": 2
}
